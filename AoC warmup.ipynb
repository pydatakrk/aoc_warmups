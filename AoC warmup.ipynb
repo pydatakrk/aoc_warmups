{
 "cells": [
  {
   "cell_type": "markdown",
   "id": "49853e62",
   "metadata": {},
   "source": [
    "# AoC warmup"
   ]
  },
  {
   "cell_type": "markdown",
   "id": "df45cb48",
   "metadata": {},
   "source": [
    "Some useful functions from python for remembering for AOC:\n",
    "    \n",
    " - collections counter\n",
    " - itertools permutations \n",
    " - str.counter\n",
    " - defaultdict\n",
    " - maketrans\n",
    " - translate\n",
    " - set() - full\n",
    " - lru carche\n",
    " - cycledeque\n",
    "\n",
    "\n",
    "More: https://github.com/norvig/pytudes/blob/main/ipynb/Advent-2020.ipynb"
   ]
  },
  {
   "cell_type": "markdown",
   "id": "fde5fe35",
   "metadata": {},
   "source": [
    "## Counter"
   ]
  },
  {
   "cell_type": "code",
   "execution_count": 5,
   "id": "a7ba641e",
   "metadata": {},
   "outputs": [
    {
     "data": {
      "text/plain": [
       "Counter({'red': 2, 'blue': 3, 'green': 1})"
      ]
     },
     "execution_count": 5,
     "metadata": {},
     "output_type": "execute_result"
    }
   ],
   "source": [
    "from collections import Counter\n",
    "\n",
    "# Tally occurrences of words in a list\n",
    "cnt = Counter()\n",
    "els = ['red', 'blue', 'red', 'green', 'blue', 'blue']\n",
    "for word in els:\n",
    "    cnt[word] += 1\n",
    "cnt\n"
   ]
  },
  {
   "cell_type": "code",
   "execution_count": 6,
   "id": "ddbfcc07",
   "metadata": {},
   "outputs": [
    {
     "data": {
      "text/plain": [
       "Counter({'red': 2, 'blue': 3, 'green': 1})"
      ]
     },
     "execution_count": 6,
     "metadata": {},
     "output_type": "execute_result"
    }
   ],
   "source": [
    "Counter(els)"
   ]
  },
  {
   "cell_type": "markdown",
   "id": "8522bb9d",
   "metadata": {},
   "source": [
    "It's basicall defaultdict(int)"
   ]
  },
  {
   "cell_type": "code",
   "execution_count": 4,
   "id": "bc91b7d0",
   "metadata": {},
   "outputs": [
    {
     "data": {
      "text/plain": [
       "0"
      ]
     },
     "execution_count": 4,
     "metadata": {},
     "output_type": "execute_result"
    }
   ],
   "source": [
    "cnt['black']"
   ]
  },
  {
   "cell_type": "markdown",
   "id": "09d324a0",
   "metadata": {},
   "source": [
    "## Permutations, combinations"
   ]
  },
  {
   "cell_type": "code",
   "execution_count": 10,
   "id": "d4c1094f",
   "metadata": {},
   "outputs": [],
   "source": [
    "from itertools import permutations, combinations, product"
   ]
  },
  {
   "cell_type": "code",
   "execution_count": 8,
   "id": "13c3b378",
   "metadata": {},
   "outputs": [
    {
     "data": {
      "text/plain": [
       "[('a', 'b'),\n",
       " ('a', 'c'),\n",
       " ('a', 'd'),\n",
       " ('b', 'a'),\n",
       " ('b', 'c'),\n",
       " ('b', 'd'),\n",
       " ('c', 'a'),\n",
       " ('c', 'b'),\n",
       " ('c', 'd'),\n",
       " ('d', 'a'),\n",
       " ('d', 'b'),\n",
       " ('d', 'c')]"
      ]
     },
     "execution_count": 8,
     "metadata": {},
     "output_type": "execute_result"
    }
   ],
   "source": [
    "list(permutations(\"abcd\",2))"
   ]
  },
  {
   "cell_type": "code",
   "execution_count": 9,
   "id": "d43ff645",
   "metadata": {},
   "outputs": [
    {
     "data": {
      "text/plain": [
       "[('a', 'b'), ('a', 'c'), ('a', 'd'), ('b', 'c'), ('b', 'd'), ('c', 'd')]"
      ]
     },
     "execution_count": 9,
     "metadata": {},
     "output_type": "execute_result"
    }
   ],
   "source": [
    "list(combinations(\"abcd\",2))"
   ]
  },
  {
   "cell_type": "code",
   "execution_count": 13,
   "id": "1fdf2207",
   "metadata": {},
   "outputs": [
    {
     "data": {
      "text/plain": [
       "[('a', 'a'),\n",
       " ('a', 'b'),\n",
       " ('a', 'c'),\n",
       " ('a', 'd'),\n",
       " ('b', 'a'),\n",
       " ('b', 'b'),\n",
       " ('b', 'c'),\n",
       " ('b', 'd'),\n",
       " ('c', 'a'),\n",
       " ('c', 'b'),\n",
       " ('c', 'c'),\n",
       " ('c', 'd'),\n",
       " ('d', 'a'),\n",
       " ('d', 'b'),\n",
       " ('d', 'c'),\n",
       " ('d', 'd')]"
      ]
     },
     "execution_count": 13,
     "metadata": {},
     "output_type": "execute_result"
    }
   ],
   "source": [
    "list(product(\"abcd\", \"abcd\"))"
   ]
  },
  {
   "cell_type": "markdown",
   "id": "8a805fde",
   "metadata": {},
   "source": [
    "# Str count"
   ]
  },
  {
   "cell_type": "code",
   "execution_count": 11,
   "id": "79879c61",
   "metadata": {},
   "outputs": [
    {
     "data": {
      "text/plain": [
       "3"
      ]
     },
     "execution_count": 11,
     "metadata": {},
     "output_type": "execute_result"
    }
   ],
   "source": [
    "\"1dsaf22dasdf2\".count(\"2\")"
   ]
  },
  {
   "cell_type": "markdown",
   "id": "5da646f6",
   "metadata": {},
   "source": [
    "# Defaultdict"
   ]
  },
  {
   "cell_type": "code",
   "execution_count": 17,
   "id": "67a27af2",
   "metadata": {},
   "outputs": [],
   "source": [
    "from collections import defaultdict\n",
    "dfd = defaultdict(list)"
   ]
  },
  {
   "cell_type": "code",
   "execution_count": 18,
   "id": "71bc00d7",
   "metadata": {},
   "outputs": [
    {
     "data": {
      "text/plain": [
       "defaultdict(list, {})"
      ]
     },
     "execution_count": 18,
     "metadata": {},
     "output_type": "execute_result"
    }
   ],
   "source": [
    "dfd"
   ]
  },
  {
   "cell_type": "code",
   "execution_count": 19,
   "id": "5c54adf7",
   "metadata": {},
   "outputs": [
    {
     "data": {
      "text/plain": [
       "defaultdict(list, {'key': [2]})"
      ]
     },
     "execution_count": 19,
     "metadata": {},
     "output_type": "execute_result"
    }
   ],
   "source": [
    "dfd['key'].append(2)\n",
    "dfd"
   ]
  },
  {
   "cell_type": "code",
   "execution_count": 20,
   "id": "d8404a2e",
   "metadata": {},
   "outputs": [
    {
     "data": {
      "text/plain": [
       "defaultdict(list, {'key': [2, 300]})"
      ]
     },
     "execution_count": 20,
     "metadata": {},
     "output_type": "execute_result"
    }
   ],
   "source": [
    "dfd['key'].append(300)\n",
    "dfd"
   ]
  },
  {
   "cell_type": "markdown",
   "id": "28b983da",
   "metadata": {},
   "source": [
    "# Maketrans"
   ]
  },
  {
   "cell_type": "code",
   "execution_count": 21,
   "id": "3bfaad11",
   "metadata": {},
   "outputs": [
    {
     "name": "stdout",
     "output_type": "stream",
     "text": [
      "Hello Pam!\n"
     ]
    }
   ],
   "source": [
    "txt = \"Hello Sam!\"\n",
    "mytable = txt.maketrans(\"S\", \"P\")\n",
    "print(txt.translate(mytable))"
   ]
  },
  {
   "cell_type": "code",
   "execution_count": 22,
   "id": "5405b372",
   "metadata": {},
   "outputs": [
    {
     "name": "stdout",
     "output_type": "stream",
     "text": [
      "Hi Joe!\n"
     ]
    }
   ],
   "source": [
    "txt = \"Hi Sam!\"\n",
    "x = \"mSa\"\n",
    "y = \"eJo\"\n",
    "mytable = txt.maketrans(x, y)\n",
    "print(txt.translate(mytable))"
   ]
  },
  {
   "cell_type": "markdown",
   "id": "1d42e17a",
   "metadata": {},
   "source": [
    "# Set"
   ]
  },
  {
   "cell_type": "code",
   "execution_count": 11,
   "id": "a2e8bbe1",
   "metadata": {},
   "outputs": [
    {
     "data": {
      "text/plain": [
       "{'bar', 'baz', 'foo', 'quux', 'qux'}"
      ]
     },
     "execution_count": 11,
     "metadata": {},
     "output_type": "execute_result"
    }
   ],
   "source": [
    "x1 = {'foo', 'bar', 'baz'}\n",
    "x2 = {'baz', 'qux', 'quux'}\n",
    "x1 | x2"
   ]
  },
  {
   "cell_type": "code",
   "execution_count": 15,
   "id": "f84f4df5",
   "metadata": {},
   "outputs": [
    {
     "data": {
      "text/plain": [
       "{'bar', 'baz', 'foo', 'qwer'}"
      ]
     },
     "execution_count": 15,
     "metadata": {},
     "output_type": "execute_result"
    }
   ],
   "source": [
    "x1.add(\"qwer\")\n",
    "x1"
   ]
  },
  {
   "cell_type": "code",
   "execution_count": 17,
   "id": "545ee569",
   "metadata": {},
   "outputs": [
    {
     "data": {
      "text/plain": [
       "{'bar', 'baz', 'foo', 'qwer'}"
      ]
     },
     "execution_count": 17,
     "metadata": {},
     "output_type": "execute_result"
    }
   ],
   "source": [
    "x1.add(\"bar\")\n",
    "x1"
   ]
  },
  {
   "cell_type": "code",
   "execution_count": 13,
   "id": "865f8a0d",
   "metadata": {},
   "outputs": [
    {
     "data": {
      "text/plain": [
       "{'bar', 'foo', 'qwer'}"
      ]
     },
     "execution_count": 13,
     "metadata": {},
     "output_type": "execute_result"
    }
   ],
   "source": [
    "x1 - x2"
   ]
  },
  {
   "cell_type": "code",
   "execution_count": 4,
   "id": "4708ba77",
   "metadata": {},
   "outputs": [
    {
     "data": {
      "text/plain": [
       "{'quux', 'qux'}"
      ]
     },
     "execution_count": 4,
     "metadata": {},
     "output_type": "execute_result"
    }
   ],
   "source": [
    "x2 - x1"
   ]
  },
  {
   "cell_type": "code",
   "execution_count": 9,
   "id": "e343cb1c",
   "metadata": {},
   "outputs": [
    {
     "data": {
      "text/plain": [
       "{'baz'}"
      ]
     },
     "execution_count": 9,
     "metadata": {},
     "output_type": "execute_result"
    }
   ],
   "source": [
    "#intersection\n",
    "x1 & x2"
   ]
  },
  {
   "cell_type": "code",
   "execution_count": 7,
   "id": "7d25b6f9",
   "metadata": {},
   "outputs": [
    {
     "data": {
      "text/plain": [
       "{'bar', 'foo', 'quux', 'qux'}"
      ]
     },
     "execution_count": 7,
     "metadata": {},
     "output_type": "execute_result"
    }
   ],
   "source": [
    "#symmetric difference\n",
    "x1 ^ x2"
   ]
  },
  {
   "cell_type": "code",
   "execution_count": 18,
   "id": "8a389244",
   "metadata": {},
   "outputs": [
    {
     "data": {
      "text/plain": [
       "False"
      ]
     },
     "execution_count": 18,
     "metadata": {},
     "output_type": "execute_result"
    }
   ],
   "source": [
    "x1 < x2"
   ]
  },
  {
   "cell_type": "code",
   "execution_count": 19,
   "id": "7cbb683b",
   "metadata": {},
   "outputs": [
    {
     "data": {
      "text/plain": [
       "True"
      ]
     },
     "execution_count": 19,
     "metadata": {},
     "output_type": "execute_result"
    }
   ],
   "source": [
    "{'a','b'} < {'a', 'b', 'c'}"
   ]
  },
  {
   "cell_type": "code",
   "execution_count": 20,
   "id": "63d807ca",
   "metadata": {},
   "outputs": [
    {
     "data": {
      "text/plain": [
       "False"
      ]
     },
     "execution_count": 20,
     "metadata": {},
     "output_type": "execute_result"
    }
   ],
   "source": [
    "{'a','b'} > {'a', 'b', 'c'}"
   ]
  },
  {
   "cell_type": "code",
   "execution_count": 10,
   "id": "d3225eab",
   "metadata": {},
   "outputs": [
    {
     "data": {
      "text/plain": [
       "set()"
      ]
     },
     "execution_count": 10,
     "metadata": {},
     "output_type": "execute_result"
    }
   ],
   "source": [
    "x1 = {1, 3, 5}\n",
    "x2 = {2, 4, 6}\n",
    "\n",
    "x1.isdisjoint(x2)\n",
    "\n",
    "x1 & x2"
   ]
  },
  {
   "cell_type": "markdown",
   "id": "fd34bc64",
   "metadata": {},
   "source": [
    "# Pattern matching"
   ]
  },
  {
   "cell_type": "code",
   "execution_count": 16,
   "id": "4a8b0ab3",
   "metadata": {},
   "outputs": [
    {
     "name": "stdout",
     "output_type": "stream",
     "text": [
      "matched\n"
     ]
    }
   ],
   "source": [
    "x = \"abba\"\n",
    "\n",
    "match x:\n",
    "    case \"a\":\n",
    "        print(\"matched\")\n",
    "    case \"b\":\n",
    "        print(\"other\")"
   ]
  },
  {
   "cell_type": "markdown",
   "id": "a950951e",
   "metadata": {},
   "source": [
    "# LRU cache"
   ]
  },
  {
   "cell_type": "markdown",
   "id": "38759c69",
   "metadata": {},
   "source": [
    "@functools.lru_cache(user_function)\n",
    "@functools.lru_cache(maxsize=128, typed=False)\n",
    "Decorator to wrap a function with a memoizing callable that saves up to the maxsize most recent calls. It can save time when an expensive or I/O bound function is periodically called with the same arguments.\n",
    "\n",
    "Since a dictionary is used to cache results, the positional and keyword arguments to the function must be hashable.\n",
    "\n",
    "Distinct argument patterns may be considered to be distinct calls with separate cache entries. For example, f(a=1, b=2) and f(b=2, a=1) differ in their keyword argument order and may have two separate cache entries.\n",
    "\n",
    "If user_function is specified, it must be a callable. This allows the lru_cache decorator to be applied directly to a user function, leaving the maxsize at its default value of 128:\n",
    "\n",
    "@lru_cache\n",
    "def count_vowels(sentence):\n",
    "    return sum(sentence.count(vowel) for vowel in 'AEIOUaeiou')"
   ]
  },
  {
   "cell_type": "markdown",
   "id": "938988aa",
   "metadata": {},
   "source": [
    "# Cycle"
   ]
  },
  {
   "cell_type": "code",
   "execution_count": 21,
   "id": "0644770d",
   "metadata": {},
   "outputs": [
    {
     "name": "stdout",
     "output_type": "stream",
     "text": [
      "A\n",
      "B\n",
      "C\n",
      "A\n",
      "B\n"
     ]
    }
   ],
   "source": [
    "from itertools import cycle\n",
    "\n",
    "j=0\n",
    "for i in cycle(\"ABC\"):\n",
    "    j+=1\n",
    "    if j == 6:\n",
    "        break\n",
    "    print(i)"
   ]
  },
  {
   "cell_type": "markdown",
   "id": "b951e0cf",
   "metadata": {},
   "source": [
    "# Deque"
   ]
  },
  {
   "cell_type": "code",
   "execution_count": 24,
   "id": "b81e1920",
   "metadata": {},
   "outputs": [],
   "source": [
    "from collections import deque"
   ]
  },
  {
   "cell_type": "code",
   "execution_count": 27,
   "id": "6f9bc5a4",
   "metadata": {},
   "outputs": [],
   "source": [
    "d = deque([1,2,3,4,5,6])"
   ]
  },
  {
   "cell_type": "code",
   "execution_count": 28,
   "id": "1dd3600e",
   "metadata": {},
   "outputs": [
    {
     "data": {
      "text/plain": [
       "deque([1, 2, 3, 4, 5, 6])"
      ]
     },
     "execution_count": 28,
     "metadata": {},
     "output_type": "execute_result"
    }
   ],
   "source": [
    "d"
   ]
  },
  {
   "cell_type": "code",
   "execution_count": 30,
   "id": "de22c0ec",
   "metadata": {},
   "outputs": [
    {
     "data": {
      "text/plain": [
       "deque([5, 6, 1, 2, 3, 4])"
      ]
     },
     "execution_count": 30,
     "metadata": {},
     "output_type": "execute_result"
    }
   ],
   "source": [
    "d.rotate(1)\n",
    "d"
   ]
  },
  {
   "cell_type": "code",
   "execution_count": null,
   "id": "5e24588d",
   "metadata": {},
   "outputs": [],
   "source": []
  }
 ],
 "metadata": {
  "kernelspec": {
   "display_name": "Python 3 (ipykernel)",
   "language": "python",
   "name": "python3"
  },
  "language_info": {
   "codemirror_mode": {
    "name": "ipython",
    "version": 3
   },
   "file_extension": ".py",
   "mimetype": "text/x-python",
   "name": "python",
   "nbconvert_exporter": "python",
   "pygments_lexer": "ipython3",
   "version": "3.10.0"
  }
 },
 "nbformat": 4,
 "nbformat_minor": 5
}
